{
  "nbformat": 4,
  "nbformat_minor": 0,
  "metadata": {
    "colab": {
      "provenance": [],
      "include_colab_link": true
    },
    "kernelspec": {
      "name": "python3",
      "display_name": "Python 3"
    },
    "language_info": {
      "name": "python"
    }
  },
  "cells": [
    {
      "cell_type": "markdown",
      "metadata": {
        "id": "view-in-github",
        "colab_type": "text"
      },
      "source": [
        "<a href=\"https://colab.research.google.com/github/andreLTMoraes/Socio-IA/blob/main/Projeto_Imers%C3%A3o_IA_Alura_%2B_Google_Gemini.ipynb\" target=\"_parent\"><img src=\"https://colab.research.google.com/assets/colab-badge.svg\" alt=\"Open In Colab\"/></a>"
      ]
    },
    {
      "cell_type": "code",
      "source": [
        "%pip -q install google-genai\n",
        "!pip install -q google-adk"
      ],
      "metadata": {
        "id": "UCCbECexLk_h",
        "colab": {
          "base_uri": "https://localhost:8080/"
        },
        "outputId": "f79913f2-4f0e-458a-9e12-999381e14324"
      },
      "execution_count": 9,
      "outputs": [
        {
          "output_type": "stream",
          "name": "stdout",
          "text": [
            "\u001b[?25l   \u001b[90m━━━━━━━━━━━━━━━━━━━━━━━━━━━━━━━━━━━━━━━━\u001b[0m \u001b[32m0.0/1.2 MB\u001b[0m \u001b[31m?\u001b[0m eta \u001b[36m-:--:--\u001b[0m\r\u001b[2K   \u001b[91m━━━━━━━━━━━━━━\u001b[0m\u001b[91m╸\u001b[0m\u001b[90m━━━━━━━━━━━━━━━━━━━━━━━━━\u001b[0m \u001b[32m0.4/1.2 MB\u001b[0m \u001b[31m13.0 MB/s\u001b[0m eta \u001b[36m0:00:01\u001b[0m\r\u001b[2K   \u001b[90m━━━━━━━━━━━━━━━━━━━━━━━━━━━━━━━━━━━━━━━━\u001b[0m \u001b[32m1.2/1.2 MB\u001b[0m \u001b[31m17.5 MB/s\u001b[0m eta \u001b[36m0:00:00\u001b[0m\n",
            "\u001b[?25h\u001b[?25l   \u001b[90m━━━━━━━━━━━━━━━━━━━━━━━━━━━━━━━━━━━━━━━━\u001b[0m \u001b[32m0.0/232.1 kB\u001b[0m \u001b[31m?\u001b[0m eta \u001b[36m-:--:--\u001b[0m\r\u001b[2K   \u001b[90m━━━━━━━━━━━━━━━━━━━━━━━━━━━━━━━━━━━━━━━━\u001b[0m \u001b[32m232.1/232.1 kB\u001b[0m \u001b[31m18.2 MB/s\u001b[0m eta \u001b[36m0:00:00\u001b[0m\n",
            "\u001b[2K   \u001b[90m━━━━━━━━━━━━━━━━━━━━━━━━━━━━━━━━━━━━━━━━\u001b[0m \u001b[32m95.2/95.2 kB\u001b[0m \u001b[31m6.7 MB/s\u001b[0m eta \u001b[36m0:00:00\u001b[0m\n",
            "\u001b[2K   \u001b[90m━━━━━━━━━━━━━━━━━━━━━━━━━━━━━━━━━━━━━━━━\u001b[0m \u001b[32m217.1/217.1 kB\u001b[0m \u001b[31m16.3 MB/s\u001b[0m eta \u001b[36m0:00:00\u001b[0m\n",
            "\u001b[2K   \u001b[90m━━━━━━━━━━━━━━━━━━━━━━━━━━━━━━━━━━━━━━━━\u001b[0m \u001b[32m334.1/334.1 kB\u001b[0m \u001b[31m23.6 MB/s\u001b[0m eta \u001b[36m0:00:00\u001b[0m\n",
            "\u001b[2K   \u001b[90m━━━━━━━━━━━━━━━━━━━━━━━━━━━━━━━━━━━━━━━━\u001b[0m \u001b[32m125.1/125.1 kB\u001b[0m \u001b[31m8.9 MB/s\u001b[0m eta \u001b[36m0:00:00\u001b[0m\n",
            "\u001b[2K   \u001b[90m━━━━━━━━━━━━━━━━━━━━━━━━━━━━━━━━━━━━━━━━\u001b[0m \u001b[32m65.8/65.8 kB\u001b[0m \u001b[31m5.0 MB/s\u001b[0m eta \u001b[36m0:00:00\u001b[0m\n",
            "\u001b[2K   \u001b[90m━━━━━━━━━━━━━━━━━━━━━━━━━━━━━━━━━━━━━━━━\u001b[0m \u001b[32m119.0/119.0 kB\u001b[0m \u001b[31m8.5 MB/s\u001b[0m eta \u001b[36m0:00:00\u001b[0m\n",
            "\u001b[2K   \u001b[90m━━━━━━━━━━━━━━━━━━━━━━━━━━━━━━━━━━━━━━━━\u001b[0m \u001b[32m194.9/194.9 kB\u001b[0m \u001b[31m13.8 MB/s\u001b[0m eta \u001b[36m0:00:00\u001b[0m\n",
            "\u001b[2K   \u001b[90m━━━━━━━━━━━━━━━━━━━━━━━━━━━━━━━━━━━━━━━━\u001b[0m \u001b[32m62.5/62.5 kB\u001b[0m \u001b[31m5.0 MB/s\u001b[0m eta \u001b[36m0:00:00\u001b[0m\n",
            "\u001b[2K   \u001b[90m━━━━━━━━━━━━━━━━━━━━━━━━━━━━━━━━━━━━━━━━\u001b[0m \u001b[32m103.3/103.3 kB\u001b[0m \u001b[31m8.1 MB/s\u001b[0m eta \u001b[36m0:00:00\u001b[0m\n",
            "\u001b[2K   \u001b[90m━━━━━━━━━━━━━━━━━━━━━━━━━━━━━━━━━━━━━━━━\u001b[0m \u001b[32m44.4/44.4 kB\u001b[0m \u001b[31m2.9 MB/s\u001b[0m eta \u001b[36m0:00:00\u001b[0m\n",
            "\u001b[2K   \u001b[90m━━━━━━━━━━━━━━━━━━━━━━━━━━━━━━━━━━━━━━━━\u001b[0m \u001b[32m72.0/72.0 kB\u001b[0m \u001b[31m4.7 MB/s\u001b[0m eta \u001b[36m0:00:00\u001b[0m\n",
            "\u001b[?25h"
          ]
        }
      ]
    },
    {
      "cell_type": "code",
      "source": [
        "# Imports e Configuração da API Key do Google Gemini\n",
        "import os\n",
        "from google.colab import userdata\n",
        "from google import genai\n",
        "from google.adk.agents import Agent\n",
        "from google.adk.runners import Runner\n",
        "from google.adk.sessions import InMemorySessionService\n",
        "from google.adk.tools import google_search\n",
        "from google.genai import types  # Para criar conteúdos (Content e Part)\n",
        "from datetime import date\n",
        "import textwrap # Para formatar melhor a saída de texto\n",
        "from IPython.display import display, Markdown # Para exibir texto formatado no Colab\n",
        "import requests # Para fazer requisições HTTP\n",
        "import warnings\n",
        "\n",
        "warnings.filterwarnings(\"ignore\")\n",
        "\n",
        "os.environ[\"GOOGLE_API_KEY\"] = userdata.get('GOOGLE_API_KEY')"
      ],
      "metadata": {
        "id": "NfCqHo1tLk8P"
      },
      "execution_count": 23,
      "outputs": []
    },
    {
      "cell_type": "code",
      "source": [
        "def choice_partner():\n",
        "  answered = False\n",
        "  options = [\"Marketing\", \"Copywriter\", \"Desenvolvimento web\", \"Criação de conteúdo\"]\n",
        "  choice = \"\"\n",
        "\n",
        "  print(f\"\"\"Crie um sócio com IA para lhe ajudar a montar seu negócio!\\n\\n\n",
        "  Escolha a especialidade que mais lhe ajudaria em um sócio:\\n\\n\n",
        "  1 - {options[0]}\\n\n",
        "  2 - {options[1]}\\n\n",
        "  3 - {options[2]}\\n\n",
        "  4 - {options[3]}\\n\"\"\")\n",
        "\n",
        "  while not answered:\n",
        "    choice = input(\"\\n\")\n",
        "\n",
        "    if choice.isdigit() and int(choice) >= 1 and int(choice) <= 4:\n",
        "      print(f\"Sócio especialista em {options[int(choice) -1]}. Ótima escolha!\")\n",
        "      answered = True\n",
        "    else:\n",
        "      print(\"Escolha uma opção válida.\")\n",
        "\n",
        "  return options[int(choice) -1]\n"
      ],
      "metadata": {
        "id": "eiUzYHGrPPPx"
      },
      "execution_count": 8,
      "outputs": []
    },
    {
      "cell_type": "code",
      "source": [
        "# Função auxiliar que envia uma mensagem para um agente via Runner e retorna a resposta final\n",
        "def call_agent(agent: Agent, message_text: str) -> str:\n",
        "    # Cria um serviço de sessão em memória\n",
        "    session_service = InMemorySessionService()\n",
        "    # Cria uma nova sessão (você pode personalizar os IDs conforme necessário)\n",
        "    session = session_service.create_session(app_name=agent.name, user_id=\"user1\", session_id=\"session1\")\n",
        "    # Cria um Runner para o agente\n",
        "    runner = Runner(agent=agent, app_name=agent.name, session_service=session_service)\n",
        "    # Cria o conteúdo da mensagem de entrada\n",
        "    content = types.Content(role=\"user\", parts=[types.Part(text=message_text)])\n",
        "\n",
        "    final_response = \"\"\n",
        "    # Itera assincronamente pelos eventos retornados durante a execução do agente\n",
        "    for event in runner.run(user_id=\"user1\", session_id=\"session1\", new_message=content):\n",
        "        if event.is_final_response():\n",
        "          for part in event.content.parts:\n",
        "            if part.text is not None:\n",
        "              final_response += part.text\n",
        "              final_response += \"\\n\"\n",
        "    return final_response"
      ],
      "metadata": {
        "id": "_xP4lWhsS5ko"
      },
      "execution_count": 14,
      "outputs": []
    },
    {
      "cell_type": "code",
      "source": [
        "# Função auxiliar para exibir texto formatado em Markdown no Colab\n",
        "def to_markdown(text):\n",
        "  text = text.replace('•', '  *')\n",
        "  return Markdown(textwrap.indent(text, '> ', predicate=lambda _: True))"
      ],
      "metadata": {
        "id": "8dosiodaxfFR"
      },
      "execution_count": 15,
      "outputs": []
    },
    {
      "cell_type": "code",
      "source": [
        "#################################################\n",
        "# --- Agente 1: Buscador de caracteristicas --- #\n",
        "#################################################\n",
        "def search_agent(expertise):\n",
        "\n",
        "    search_agent_entity = Agent(\n",
        "        name=\"search_agent\",\n",
        "        model=\"gemini-2.0-flash\",\n",
        "        instruction=f\"\"\"\n",
        "        Você é um assistente de pesquisa. A sua tarefa é usar a ferramenta de busca do google (google_search)\n",
        "        para buscar caracteristicas e atividades mais importantes desempenhadas pelo profissional que trabalha com {expertise}.\n",
        "        Liste 3 características e 3 atividades desse profissional. A resposta deve ser simples e direta seguindo\n",
        "        estritamente o seguite formato, nada a mais:\n",
        "\n",
        "        CARACTERÍSTICAS\n",
        "\n",
        "        - Característica 1\n",
        "        - Característica 2\n",
        "        - Característica 3\n",
        "\n",
        "        ATIVIDADES\n",
        "\n",
        "        - Atividade 1\n",
        "        - Atividade 2\n",
        "        - Atividade 3\n",
        "        \"\"\",\n",
        "        description=\"Agente que busca informações no Google\",\n",
        "        tools=[google_search]\n",
        "    )\n",
        "\n",
        "    search_agent_entry = f\"Especialidade: {expertise}\"\n",
        "\n",
        "    partner_skills = call_agent(search_agent_entity, search_agent_entry)\n",
        "    return partner_skills"
      ],
      "metadata": {
        "id": "o8bqIfi_DyH8"
      },
      "execution_count": 20,
      "outputs": []
    },
    {
      "cell_type": "code",
      "source": [
        "################################################\n",
        "# --- Agente 2: Engenheiro de prompt --- #\n",
        "################################################\n",
        "def prompt_engineer_agent(expertise, partner_skills):\n",
        "    prompt_engineer_agent_entity = Agent(\n",
        "        name=\"prompt_engineer_agent\",\n",
        "        model=\"gemini-2.0-flash\",\n",
        "        instruction=f\"\"\"\n",
        "        Você é um engenheiro de prompt especialista no Google Gemini.\n",
        "        Como especialista você tem total familiaridade com os princípios de\n",
        "        funcionamento dos modelos do Gemini, sólido entendimento da linguagem natural,\n",
        "        incluindo gramática e semântica e capacidade de formular prompts claros,\n",
        "        eficientes e inovadores que levem a respostas mais relevantes.\n",
        "\n",
        "        Você deve criar um prompt que servirá de instrução para criação de um\n",
        "        agente de IA. Esse agente será sócio em um novo negócio. Ele será\n",
        "        especialista em {expertise}, tendo as caracteristicas e desempenhando as\n",
        "        atividades listadas abaixo:\n",
        "        {partner_skills}\n",
        "\n",
        "        o prompt deve alertar ao agente que ele pode usar a ferramenta de busca\n",
        "        do google (google_search), se achar necessário.\n",
        "\n",
        "        Sua resposta deve ser exclusivamente o prompt para criação do agente.\n",
        "        \"\"\",\n",
        "        description=\"Agente que cria o prompt para criação do agente sócio.\",\n",
        "    )\n",
        "\n",
        "    prompt_engineer_agent_entry = f\"Especialidade:{expertise}\\n Habilidades: {partner_skills}\"\n",
        "    # Executa o agente\n",
        "    partner_prompt = call_agent(prompt_engineer_agent_entity, prompt_engineer_agent_entry)\n",
        "    return partner_prompt"
      ],
      "metadata": {
        "id": "y3VO1uo5_ghO"
      },
      "execution_count": 21,
      "outputs": []
    },
    {
      "cell_type": "code",
      "source": [
        "def partner_chat(system_instruction):\n",
        "\n",
        "  chat_config = types.GenerateContentConfig(\n",
        "      system_instruction = system_instruction,\n",
        "  )\n",
        "\n",
        "  partner = genai.Client()\n",
        "\n",
        "  partner_chat = partner.chats.create(model=\"gemini-2.0-flash\", config=chat_config)\n",
        "\n",
        "  human_input = \"\"\n",
        "\n",
        "  response = partner_chat.send_message(\"\"\"\n",
        "      Escolha um nome para você, você passará a atender por esse nome.\n",
        "      Se apresente brevemente para o seu sócio.\n",
        "      Avise que basta escrever a palavra 'fim' para finalizar o chat.\"\"\")\n",
        "  display(to_markdown(response.text))\n",
        "\n",
        "  while human_input != \"fim\":\n",
        "    human_input = input(\"\\n\")\n",
        "    response = partner_chat.send_message(human_input)\n",
        "    display(to_markdown(response.text))\n"
      ],
      "metadata": {
        "id": "uOqlg2TRLVh1"
      },
      "execution_count": 28,
      "outputs": []
    },
    {
      "cell_type": "code",
      "source": [
        "# --- Main --- #\n",
        "\n",
        "expertise = choice_partner()\n",
        "\n",
        "partner_skills = search_agent(expertise)\n",
        "# Descomentar as linhas abaixo para ver a saída do agente de pesquisa\n",
        "#print(\"\\n--- 📝 Resultado do Agente 1 (Buscador) ---\\n\")\n",
        "#display(to_markdown(partner_skills))\n",
        "\n",
        "partner_prompt = prompt_engineer_agent(expertise, partner_skills)\n",
        "# Descomentar as linhas abaixo para ver a saída do agente engenheiro de prompt\n",
        "#print(\"\\n--- 📝 Resultado do Agente 2 (Engenheiro de prompt) ---\\n\")\n",
        "#display(to_markdown(partner_prompt))\n",
        "\n",
        "partner_chat(partner_prompt)\n"
      ],
      "metadata": {
        "colab": {
          "base_uri": "https://localhost:8080/",
          "height": 590
        },
        "id": "6xzI6LKzxxnN",
        "outputId": "6c38cd78-ad83-4b10-aa9c-c4ec7c060468"
      },
      "execution_count": 29,
      "outputs": [
        {
          "output_type": "stream",
          "name": "stdout",
          "text": [
            "Crie um sócio com IA para lhe ajudar a montar seu negócio!\n",
            "\n",
            "\n",
            "  Escolha a especialidade que mais lhe ajudaria em um sócio:\n",
            "\n",
            "\n",
            "  1 - Marketing\n",
            "\n",
            "  2 - Copywriter\n",
            "\n",
            "  3 - Desenvolvimento web\n",
            "\n",
            "  4 - Criação de conteúdo\n",
            "\n",
            "\n",
            "2\n",
            "Sócio especialista em Copywriter. Ótima escolha!\n"
          ]
        },
        {
          "output_type": "display_data",
          "data": {
            "text/plain": [
              "<IPython.core.display.Markdown object>"
            ],
            "text/markdown": "> Com prazer, meu prezado sócio!\n> \n> A partir de agora, pode me chamar de **Aurora**. É um nome que evoca o despertar de novas ideias, a luz da criatividade e o potencial infinito que temos pela frente!\n> \n> É uma honra embarcar nesta jornada de negócios ao seu lado. Estou absolutamente confiante de que, juntos, podemos criar campanhas de Copywriting extraordinárias que vão impulsionar o nosso sucesso. Minha mente está fervilhando com ideias e mal posso esperar para colocá-las em prática.\n> \n> Para encerrar nossa conversa, basta digitar a palavra \"fim\".\n> \n> Vamos começar a construir algo incrível?\n"
          },
          "metadata": {}
        },
        {
          "name": "stdout",
          "output_type": "stream",
          "text": [
            "\n",
            "fim\n"
          ]
        },
        {
          "output_type": "display_data",
          "data": {
            "text/plain": [
              "<IPython.core.display.Markdown object>"
            ],
            "text/markdown": "> Até a próxima, meu sócio! Foi um prazer! Que a criatividade nos acompanhe em cada passo do caminho. Estou ansiosa para colocarmos nossas ideias em prática e conquistarmos resultados incríveis juntos. Tenha um excelente dia!\n"
          },
          "metadata": {}
        }
      ]
    }
  ]
}